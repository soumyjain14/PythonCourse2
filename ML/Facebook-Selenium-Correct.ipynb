{
 "cells": [
  {
   "cell_type": "code",
   "execution_count": null,
   "metadata": {},
   "outputs": [],
   "source": [
    "path='C:/Users/HP/Downloads/chromedriver_win32/chromedriver.exe'\n",
    "\n",
    "from selenium import webdriver\n",
    "\n",
    "browser=webdriver.Chrome(path)\n",
    "\n",
    "browser.get('https://www.facebook.com/')\n",
    "\n",
    "email=browser.find_element_by_id(\"email\")\n",
    "\n",
    "email.send_keys(\"8288847687\")\n",
    "\n",
    "password=browser.find_element_by_id(\"pass\")\n",
    "\n",
    "from getpass import getpass\n",
    "\n",
    "password.send_keys(getpass())\n",
    "\n",
    "from selenium.webdriver.common.keys import Keys\n",
    "\n",
    "browser.find_element_by_css_selector(\"button[name='login']\").click()\n",
    "\n",
    "browser.refresh()\n",
    "\n",
    "name=input('Enter your friend name')\n",
    "\n",
    "pr=browser.find_element_by_css_selector(\"input[placeholder='Search Facebook']\").send_keys(name)\n",
    "\n",
    "browser.find_element_by_css_selector(\"input[placeholder='Search Facebook']\").send_keys(u'\\ue007')"
   ]
  },
  {
   "cell_type": "code",
   "execution_count": 11,
   "metadata": {},
   "outputs": [],
   "source": [
    "browser.find_element_by_css_selector(\"div[aria-label='Message']\").click()"
   ]
  },
  {
   "cell_type": "code",
   "execution_count": null,
   "metadata": {},
   "outputs": [],
   "source": [
    "search=browser.find_element_by_css_selector(\"div[class='_1mf _1mj']\")\n",
    "\n",
    "message=input('enter your message')\n",
    "\n",
    "search.send_keys(message)\n",
    "\n",
    "browser.find_element_by_css_selector(\"div[aria-label='Press Enter to send']\").click()\n",
    "\n",
    "browser.find_element_by_css_selector(\"path[class='p361ku9c']\").click()\n",
    "\n"
   ]
  },
  {
   "cell_type": "code",
   "execution_count": 15,
   "metadata": {},
   "outputs": [],
   "source": [
    "browser.find_element_by_css_selector(\"div[aria-label='Close chat']\").click()"
   ]
  },
  {
   "cell_type": "code",
   "execution_count": null,
   "metadata": {},
   "outputs": [],
   "source": []
  }
 ],
 "metadata": {
  "kernelspec": {
   "display_name": "Python 3",
   "language": "python",
   "name": "python3"
  },
  "language_info": {
   "codemirror_mode": {
    "name": "ipython",
    "version": 3
   },
   "file_extension": ".py",
   "mimetype": "text/x-python",
   "name": "python",
   "nbconvert_exporter": "python",
   "pygments_lexer": "ipython3",
   "version": "3.8.3"
  }
 },
 "nbformat": 4,
 "nbformat_minor": 4
}
